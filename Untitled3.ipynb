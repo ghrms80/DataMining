{
 "metadata": {
  "name": "Untitled3"
 },
 "nbformat": 3,
 "nbformat_minor": 0,
 "worksheets": [
  {
   "cells": [
    {
     "cell_type": "markdown",
     "metadata": {},
     "source": [
      "test \n",
      "\ud55c\uae00 \uc9c0\uc6d0 \ub41c\ub2e4!!"
     ]
    },
    {
     "cell_type": "code",
     "collapsed": false,
     "input": [
      "\n"
     ],
     "language": "python",
     "metadata": {},
     "outputs": []
    },
    {
     "cell_type": "code",
     "collapsed": false,
     "input": [],
     "language": "python",
     "metadata": {},
     "outputs": []
    },
    {
     "cell_type": "raw",
     "metadata": {},
     "source": [
      "raw text \ud55c\uae00\ub3c4 \ub41c\ub2e4\uad6c...\u314b\u314b\n"
     ]
    },
    {
     "cell_type": "heading",
     "level": 1,
     "metadata": {},
     "source": [
      "\ud55c\uae00 \ud14c\uc2a4\ud2b8"
     ]
    },
    {
     "cell_type": "markdown",
     "metadata": {},
     "source": [
      "\uc218\uc815 \ud14c\uc2a4\ud2b8 git!!"
     ]
    }
   ],
   "metadata": {}
  }
 ]
}